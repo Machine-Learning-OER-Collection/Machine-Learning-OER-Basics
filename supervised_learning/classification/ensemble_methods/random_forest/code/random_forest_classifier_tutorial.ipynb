{
 "cells": [
  {
   "attachments": {},
   "cell_type": "markdown",
   "metadata": {},
   "source": [
    "### Example code for a random forest classification\n",
    "\n",
    "Welcome back! After introducing the data (see [EDA](/supervised_learning/Exploratory_data_analysis.ipynb)) and applying the [Decision Tree Classifier](/supervised_learning/classification/decision_tree/code/decision_tree_classifier_tutorial.ipynb), we will look at the Random Forest Classifier.\n",
    "\n",
    "The model:\n",
    "\n",
    "Random forests are used for classification and regression. This tutorial focuses on classification. As mentioned earlier, your goal is to build a model that predicts whether a car your bosses bought at an auction is a bad buy. Before training the model, let's see what a Random Forest Classifier is.\n",
    "\n",
    "A random forest classifier is an ensemble method. Ensemble methods combine multiple machine learning models to build a more powerful model. The term random forest comes from combining several decision trees to form a forest. The trees are trained on different subsets of the data set. The final prediction relies on the majority vote of the individual trees.\n",
    "\n",
    "<img src=\"../img/random_forest_classifier.svg\" alt='Example Random Forest' height=\"500\" width=\"1000\">\n",
    "\n",
    "Quick reminder: A decision tree predicts the value of a target variable by learning simple decision rules (if/else) inferred from the data features.\n",
    "The features can be the questions like \"Is the vehicle older than five years?\" If this case is _True_, the next question to the left, which would be the next feature, follows. The same applies if the car is younger than five years. Then another question, meaning another feature, is considered. The questions are asked until all samples are assigned to a final decision: Buy or Don't Buy. \n",
    "For the Random Forest Classifier, this process is repeated for each tree in the forest. The final prediction is the majority vote of the individual trees.\n",
    "\n",
    "A random forest contains numeral decision trees, each consisting of a root, edges, nodes and leaf nodes:\n",
    "A root has nodes, a node always has an ancestor and descendants and a leaf has no descendants. Let's have a look again at one decision tree:\n",
    "\n",
    "<img src=\"../../../decision_tree/img/decision_tree_classifier.svg\" alt=\"Decision Tree Classifier\" height=\"500\" width=\"1000\">\n",
    "\n",
    "The building process of a decision tree is based on a test performed on the root and each node until a termination condition is reached. \n",
    "\n",
    "If we apply this to our data set, we use part of it as a training set to train the data. The training set is recursively split into subsets. Each of these splits represents a node in the decision tree. How exactly the split is done (i.e. which question is asked) depends on the parameters/implementation of the algorithm. \n",
    "\n",
    "The termination condition can be:\n",
    "- the maximum depth of each tree in the forest is reached\n",
    "- the number of samples in a node is below a certain threshold\n",
    "- the number of samples in a node is 0\n",
    "- the node is pure (all samples belong to the same class)\n",
    "\n",
    "The random forest classifier needs a labeled data set with input features and corresponding class labels. \n",
    "The output of a random forest classifier is a class. \n",
    "\n",
    "See [Random Forest](https://scikit-learn.org/stable/modules/ensemble.html#random-forests) in the scikit-learn User Guide for more information about the algorithm.\n",
    "\n",
    "\n",
    "Reference:\n",
    "\n",
    "Example code for a random forest model by julia from the repo [machine-learning-OER-Basics](https://github.com/Machine-Learning-OER-Collection/Machine-Learning-OER-Basics) is licensed under [CC-BY 4.0](https://creativecommons.org/licenses/by/4.0/).\n",
    "\n",
    "We'll start with a basic pipeline which includes the following steps:\n",
    "\n",
    "## Basic Machine Learning Pipeline\n",
    "\n",
    "- Load libraries\n",
    "- Import data set\n",
    "- Preprocessing\n",
    "    - Encoding categorical variables\n",
    "- Split the data set into training and testing sets\n",
    "- Instantiate the Classifier specifying hyperparameters\n",
    "- Train the Classifier on the training data\n",
    "- Evaluate the performance of the Classifier\n",
    "\n",
    "**The structure of the notebook follows first the basic pipeline. The feature selection topic is covered in a separate step.**\n",
    "\n",
    "Steps:\n",
    "\n",
    "1. Preparation of the data set:\n",
    "\n",
    "    - Transformation:\n",
    "        - Encode categorical values to numerical (with Pandas)\n",
    "\n",
    "<br>\n",
    "\n",
    "2. Training of the data:\n",
    "    - Split the data into training and testing sets\n",
    "    - Instantiate the Classifier specifying hyperparameters\n",
    "    - Train the Classifier on the training data\n",
    "\n",
    "<br>\n",
    "\n",
    "3. Evaluate the performance of the Classifier\n",
    "    - Plot Confusion Matrix\n",
    "    - Classification report"
   ]
  },
  {
   "attachments": {},
   "cell_type": "markdown",
   "metadata": {},
   "source": [
    "##### Used libraries in the code:\n",
    "* [pandas](https://pandas.pydata.org/docs/index.html#) for data analyzing\n",
    "* [scikit-learn](https://scikit-learn.org/stable/index.html) for machine learning\n",
    "* [seaborn](https://seaborn.pydata.org/) for statistical data visualization\n",
    "* [matplotlib](https://matplotlib.org/) for data visualization\n",
    "* [BalancedRandomForestClassifier](https://imbalanced-learn.org/stable/references/generated/imblearn.ensemble.BalancedRandomForestClassifier.html) for sampling the data\n",
    "\n",
    "From sklearn:\n",
    "\n",
    "`from sklearn.model_selection import train_test_split`\n",
    "\n",
    "`from sklearn.tree import RandomForestClassifier`\n",
    "\n",
    "`from sklearn.metrics import classification_report`\n",
    "\n",
    "`from sklearn.metrics import confusion_matrix`\n",
    "\n",
    "`from sklearn.metrics import ConfusionMatrixDisplay`\n",
    "\n",
    "__________________________________________________\n"
   ]
  },
  {
   "attachments": {},
   "cell_type": "markdown",
   "metadata": {},
   "source": [
    "Read in the data set: This tutorial uses the cleaned data set from the EDA.\n",
    "\n",
    "Check for missing values: This downloaded example data set uses question marks (\"?\") for missing values. The parameter na_values converts the question marks to the format NaN (not a number), which pandas can detect. By using the data set from the EDA, the missing values are already handled."
   ]
  },
  {
   "cell_type": "code",
   "execution_count": 2,
   "metadata": {},
   "outputs": [],
   "source": [
    "import pandas as pd\n",
    "\n",
    "df = pd.read_csv('../../../../kick_after_EDA.csv')"
   ]
  },
  {
   "cell_type": "code",
   "execution_count": 3,
   "metadata": {},
   "outputs": [
    {
     "data": {
      "text/html": [
       "<div>\n",
       "<style scoped>\n",
       "    .dataframe tbody tr th:only-of-type {\n",
       "        vertical-align: middle;\n",
       "    }\n",
       "\n",
       "    .dataframe tbody tr th {\n",
       "        vertical-align: top;\n",
       "    }\n",
       "\n",
       "    .dataframe thead th {\n",
       "        text-align: right;\n",
       "    }\n",
       "</style>\n",
       "<table border=\"1\" class=\"dataframe\">\n",
       "  <thead>\n",
       "    <tr style=\"text-align: right;\">\n",
       "      <th></th>\n",
       "      <th>IsBadBuy</th>\n",
       "      <th>PurchDate</th>\n",
       "      <th>Auction</th>\n",
       "      <th>VehicleAge</th>\n",
       "      <th>Make</th>\n",
       "      <th>Model</th>\n",
       "      <th>Trim</th>\n",
       "      <th>SubModel</th>\n",
       "      <th>Color</th>\n",
       "      <th>Transmission</th>\n",
       "      <th>WheelType</th>\n",
       "      <th>VehOdo</th>\n",
       "      <th>Nationality</th>\n",
       "      <th>Size</th>\n",
       "      <th>TopThreeAmericanName</th>\n",
       "      <th>CurrentAuctionAveragePrice</th>\n",
       "      <th>CurrentAuctionCleanPrice</th>\n",
       "      <th>CurrentRetailAveragePrice</th>\n",
       "      <th>CurrentRetailCleanPrice</th>\n",
       "      <th>BYRNO</th>\n",
       "      <th>VNST</th>\n",
       "      <th>VehBCost</th>\n",
       "      <th>IsOnlineSale</th>\n",
       "      <th>WarrantyCost</th>\n",
       "    </tr>\n",
       "  </thead>\n",
       "  <tbody>\n",
       "    <tr>\n",
       "      <th>0</th>\n",
       "      <td>0</td>\n",
       "      <td>1260144000</td>\n",
       "      <td>ADESA</td>\n",
       "      <td>3</td>\n",
       "      <td>MAZDA</td>\n",
       "      <td>MAZDA3</td>\n",
       "      <td>i</td>\n",
       "      <td>4D SEDAN I</td>\n",
       "      <td>RED</td>\n",
       "      <td>AUTO</td>\n",
       "      <td>Alloy</td>\n",
       "      <td>89046</td>\n",
       "      <td>OTHER ASIAN</td>\n",
       "      <td>MEDIUM</td>\n",
       "      <td>OTHER</td>\n",
       "      <td>7451.0</td>\n",
       "      <td>8552.0</td>\n",
       "      <td>11597.0</td>\n",
       "      <td>12409.0</td>\n",
       "      <td>21973</td>\n",
       "      <td>FL</td>\n",
       "      <td>7100.0</td>\n",
       "      <td>0</td>\n",
       "      <td>1113</td>\n",
       "    </tr>\n",
       "    <tr>\n",
       "      <th>1</th>\n",
       "      <td>0</td>\n",
       "      <td>1260144000</td>\n",
       "      <td>ADESA</td>\n",
       "      <td>5</td>\n",
       "      <td>DODGE</td>\n",
       "      <td>1500 RAM PICKUP 2WD</td>\n",
       "      <td>ST</td>\n",
       "      <td>QUAD CAB 4.7L SLT</td>\n",
       "      <td>WHITE</td>\n",
       "      <td>AUTO</td>\n",
       "      <td>Alloy</td>\n",
       "      <td>93593</td>\n",
       "      <td>AMERICAN</td>\n",
       "      <td>LARGE TRUCK</td>\n",
       "      <td>CHRYSLER</td>\n",
       "      <td>7456.0</td>\n",
       "      <td>9222.0</td>\n",
       "      <td>11374.0</td>\n",
       "      <td>12791.0</td>\n",
       "      <td>19638</td>\n",
       "      <td>FL</td>\n",
       "      <td>7600.0</td>\n",
       "      <td>0</td>\n",
       "      <td>1053</td>\n",
       "    </tr>\n",
       "  </tbody>\n",
       "</table>\n",
       "</div>"
      ],
      "text/plain": [
       "   IsBadBuy   PurchDate Auction  VehicleAge   Make                Model Trim  \\\n",
       "0         0  1260144000   ADESA           3  MAZDA               MAZDA3    i   \n",
       "1         0  1260144000   ADESA           5  DODGE  1500 RAM PICKUP 2WD   ST   \n",
       "\n",
       "            SubModel  Color Transmission WheelType  VehOdo  Nationality  \\\n",
       "0         4D SEDAN I    RED         AUTO     Alloy   89046  OTHER ASIAN   \n",
       "1  QUAD CAB 4.7L SLT  WHITE         AUTO     Alloy   93593     AMERICAN   \n",
       "\n",
       "          Size TopThreeAmericanName  CurrentAuctionAveragePrice  \\\n",
       "0       MEDIUM                OTHER                      7451.0   \n",
       "1  LARGE TRUCK             CHRYSLER                      7456.0   \n",
       "\n",
       "   CurrentAuctionCleanPrice  CurrentRetailAveragePrice  \\\n",
       "0                    8552.0                    11597.0   \n",
       "1                    9222.0                    11374.0   \n",
       "\n",
       "   CurrentRetailCleanPrice  BYRNO VNST  VehBCost  IsOnlineSale  WarrantyCost  \n",
       "0                  12409.0  21973   FL    7100.0             0          1113  \n",
       "1                  12791.0  19638   FL    7600.0             0          1053  "
      ]
     },
     "execution_count": 3,
     "metadata": {},
     "output_type": "execute_result"
    }
   ],
   "source": [
    "# Display the data frame\n",
    "pd.set_option('display.max_columns', None) # if not set, displayed columns will be truncated\n",
    "df.head(2)"
   ]
  },
  {
   "attachments": {},
   "cell_type": "markdown",
   "metadata": {},
   "source": [
    "# Basic Pipeline"
   ]
  },
  {
   "cell_type": "markdown",
   "metadata": {},
   "source": [
    "### First step - Transformation"
   ]
  },
  {
   "cell_type": "markdown",
   "metadata": {},
   "source": [
    "#### Encode the categorical values | Get dummies\n",
    "\n",
    "As scikit-learn states in the documentation, their Random Forest implementation does not currently support categorical variables. To use both - numerical and categorical features - for the algorithm, the categorical values must be transformed into numeric values.\n",
    "\n",
    "We encode the categorical attributes in the decision tree notebook with the [OneHotEncoder](https://scikit-learn.org/stable/modules/generated/sklearn.preprocessing.OneHotEncoder.html#sklearn-preprocessing-onehotencoder).\n",
    "\n",
    "Now we show you another way to encode the categorical values with the [get_dummies](https://pandas.pydata.org/docs/reference/api/pandas.get_dummies.html) function from pandas. It is a simple way to encode the categorical values. The function creates a new column for each value and assigns a 1 or 0 to the column. The 1 indicates that the value is present in the row, the 0 indicates that it is not."
   ]
  },
  {
   "cell_type": "markdown",
   "metadata": {},
   "source": [
    "Define categorical attributes and write to new data frame."
   ]
  },
  {
   "cell_type": "code",
   "execution_count": 4,
   "metadata": {},
   "outputs": [],
   "source": [
    "# Define categorical features\n",
    "\n",
    "categorical_features = ['Auction', 'Make', 'Model', 'Trim', 'SubModel', 'Color', 'Transmission',\n",
    "       'WheelType', 'Nationality', 'Size', 'TopThreeAmericanName', 'VNST']"
   ]
  },
  {
   "cell_type": "markdown",
   "metadata": {},
   "source": [
    "This basically takes only one line of code after you define the categorical columns.\n",
    "\n",
    "The `pd.get_dummies()` function converts categorical variables into dummy variables. The function returns a new data frame with dummy variables. The original categorical column is dropped from the data frame, and the new dummy variables are added. The new column names are the original column name and the variable name. \n",
    "\n",
    "Using the `concat()` method, the encoded data is concatenated with the original data set. The original columns are dropped with the `drop()` method."
   ]
  },
  {
   "cell_type": "code",
   "execution_count": 5,
   "metadata": {},
   "outputs": [
    {
     "name": "stdout",
     "output_type": "stream",
     "text": [
      "Amount of features after using get_dummies: 2144\n"
     ]
    }
   ],
   "source": [
    "encoded_cols = pd.get_dummies(df[categorical_features])\n",
    "\n",
    "# Concatenate the encoded columns with the numerical columns\n",
    "df_encoded = pd.concat([df.drop(categorical_features, axis=1), encoded_cols], axis=1)\n",
    "print(f'Amount of features after using get_dummies: {df_encoded.shape[1]}')"
   ]
  },
  {
   "cell_type": "markdown",
   "metadata": {},
   "source": [
    "The data set after using the `get_dummies()` method has the same shape as applying the `OneHotEncoder()` method (72464, 2144).\n",
    "\n",
    "Since some features have many different values, the encoded data set becomes quite large. This raises the question of whether all these 'new' features are needed at all. Let's leave this question for now (you can find [more information here](https://scikit-learn.org/stable/modules/ensemble.html#feature-importance-evaluation)) and look at the basic pipeline for the RandomForestClassifier. "
   ]
  },
  {
   "attachments": {},
   "cell_type": "markdown",
   "metadata": {},
   "source": [
    "**Split the target variable (y) from the features (X)**\n",
    "\n",
    "The [Random Forest Classifier](https://scikit-learn.org/stable/modules/generated/sklearn.ensemble.RandomForestClassifier.html#sklearn-ensemble-randomforestclassifier) takes X and y as input. The target variable (y) is the variable that should be predicted. The features (X) are the variables used to predict the target variable. \n",
    "X and y are numpy arrays or sparse matrices of shape (n_samples, n_features), where n_samples is the number of samples and n_features is the number of features. A numpy array is a grid of values, all of the same type. "
   ]
  },
  {
   "cell_type": "code",
   "execution_count": 6,
   "metadata": {},
   "outputs": [],
   "source": [
    "# Split the encoded data frame into X and y\n",
    "X = df_encoded.drop('IsBadBuy', axis=1) # Drop the target column from the features\n",
    "y = df_encoded['IsBadBuy']"
   ]
  },
  {
   "attachments": {},
   "cell_type": "markdown",
   "metadata": {},
   "source": [
    "### Second step - Training of the data\n",
    "\n",
    "Split the data into training and testing sets"
   ]
  },
  {
   "attachments": {},
   "cell_type": "markdown",
   "metadata": {},
   "source": [
    "The [train_test_split](https://scikit-learn.org/stable/modules/generated/sklearn.model_selection.train_test_split.html) function splits the data set into training and test sets. The test_size parameter specifies the proportion of the test set. You can also split the data set into 25% test and 75% training data by setting the parameter to 0.25. If you use the default parameters, you're all set for the first run, so don't worry.\n",
    "\n",
    "The random_state parameter ensures that the split is always the same. You can set it to any integer (but always the same). If you don't set this parameter, the split will differ each time you run the code. We'll decide to set the parameter to 42. If you need to know why, a quick search on the web will help. The same goes for questions about the code. Stackoverflow is a suitable place to start.\n",
    "\n",
    "X_train and y_train are the _training_ sets for the features and the target variable. X_test and y_test are the _test_ sets for the features and the target variable."
   ]
  },
  {
   "cell_type": "code",
   "execution_count": 7,
   "metadata": {},
   "outputs": [],
   "source": [
    "from sklearn.model_selection import train_test_split\n",
    "\n",
    "# Split data into training and testing sets\n",
    "X_train, X_test, y_train, y_test = train_test_split(X, y, test_size=0.33, random_state=42)"
   ]
  },
  {
   "cell_type": "code",
   "execution_count": 8,
   "metadata": {},
   "outputs": [
    {
     "name": "stdout",
     "output_type": "stream",
     "text": [
      "Training set shape Counter({0: 42568, 1: 5982})\n",
      "Testing set shape Counter({0: 20988, 1: 2926})\n"
     ]
    }
   ],
   "source": [
    "from collections import Counter\n",
    "\n",
    "print(f'Training set shape {Counter(y_train)}')\n",
    "print(f'Testing set shape {Counter(y_test)}')"
   ]
  },
  {
   "attachments": {},
   "cell_type": "markdown",
   "metadata": {},
   "source": [
    "**Train the Random Forest Classifier**\n",
    "\n",
    "See the first results of your model in a moment. \n",
    "\n",
    "Let's go through the code line by line:\n",
    "\n",
    "Instantiate the Classifier specifying parameters: The RandomForestClassifier has many parameters. We'll use almost all of the default parameters for now. You can find more information about the parameters in the [documentation](https://scikit-learn.org/stable/modules/generated/sklearn.ensemble.RandomForestClassifier.html#sklearn-ensemble-randomforestclassifier).\n",
    "Only random_state is set to 42 to ensure our results are reproducible.\n",
    "\n",
    "Let's dive into the parameters we set:\n",
    "\n",
    "* The `n_estimators` parameter is set to 100. This parameter indicates the number of trees in the forest. \n",
    "\n",
    "* The `criterion` parameter is set to Gini, the default value. The criterion parameter determines the function to measure the quality of a split. Supported criteria are _gini_ for Gini impurity, entropy, and log_loss for information gain. We explain Gini impurity in the [Decision Tree Notebook](/supervised_learning/classification/decision_tree/code/decision_tree_classifier_tutorial.ipynb); for the other criteria, see the [documentation](https://scikit-learn.org/stable/modules/tree.html#tree-mathematical-formulation).\n",
    "\n",
    "* The parameter `max_depth` is set to 5. The default None would cause the maximum tree to branch out until all leaves are pure or contain less than the value defined for min_samples_split.\n",
    "\n",
    "* `min_samples_split` is set to the default value of 2 to ensure each node has at least two samples to split.\n",
    "\n",
    "* We set the `min_samples_leaf` to the default value of 1 to ensure each leaf has at least one sample.\n",
    "\n",
    "* `min_weight_fraction_leaf` is set to the default value of 0.0. This parameter specifies the minimum weighted fraction of the sum of the weights (of all input samples) a leaf node requires. If sample_weight is not set, samples will have identical weights.\n",
    "\n",
    "* `max_features` is set to the default value of sqrt. This parameter specifies the number of features to consider when computing the best split. The default value of sqrt means the algorithm uses the square root of the total features. For the other options, see the [documentation](https://scikit-learn.org/stable/modules/generated/sklearn.ensemble.RandomForestClassifier.html#sklearn-ensemble-randomforestclassifier).\n",
    "\n",
    "* `max_leaf_nodes` is set to the default value of None. This parameter specifies the maximum number of leaf nodes. The default value of None means that the number of leaf nodes is unlimited.\n",
    "\n",
    "* The parameter `min_impurity_decrease` defines whether a node should be split based on the impurity reduction the split would cause. The default value of 0.0 means that all nodes are expanded.\n",
    "\n",
    "* `bootstrap` is set to True. This parameter specifies whether bootstrap samples are used when building trees. If false, the entire data set is used to construct each tree. See the bootstrap [EXCURSION](#excursion-bootstrap) below for more information.\n",
    "\n",
    "* `oob_score` is set to False. This parameter is used to specify whether or not out-of-bag samples should be used to estimate the accuracy of the generalization. Note, if you set bootstrap to False, oob_score is not available.\n",
    "\n",
    "* The parameter `n_jobs` is set to None. This parameter is used to specify the number of jobs to run in parallel.\n",
    "\n",
    "* We set the `random_state` to the integer 42. The random_state parameter impacts randomness in two aspects: First, it controls the random selection of samples during the bootstrapping process when constructing trees (if bootstrap=True). Second, it controls the sampling of the features considered for determining the optimal split at each node (if max_features < n_features).\n",
    "\n",
    "* We set `verbose` to 0. The verbosity parameter determines the output level generated during the fitting and predicting processes. When set to 0, no messages are printed. Setting it to 1 will print messages at the start of fitting and predicting. If set to 2, messages will be printed for each tree fitted and predicted.\n",
    "\n",
    "* The parameter `warm_start` is set to False. The parameter controls whether the solution from the previous fit call should be reused, adding more estimators to the existing ensemble, or if a completely new forest should be fitted.\n",
    "\n",
    "* We leave the `class_weight` to None. The weight of each class is specified by this parameter. If we choose None, the classes are supposed to have weight one. \n",
    "\n",
    "* For `ccp_alpha`, we leave the default value of 0.0. The ccp_alpha parameter, also known as the complexity parameter, regulates the pruning of subtrees in decision trees. Pruning is a technique to mitigate [overfitting](../../../k_nearest_neighbors/explainer/overfitting_underfitting.md) by reducing the complexity of the tree. By default, no pruning is applied, allowing the decision tree to grow without any limitations on complexity.\n",
    "\n",
    "* `max_samples` is set to None. The max_samples parameter determines the number of samples drawn from X to train each base estimator. When bootstrap is set to True (which is the default), max_samples is automatically set to the total number of samples in X. If max_samples exceeds the number of available samples, all samples will be used for training all trees, meaning no sampling will occur.\n",
    "\n",
    "As mentioned, if you use the default parameters, you don't need to specify them in the RandomForestClassifier()."
   ]
  },
  {
   "cell_type": "markdown",
   "metadata": {},
   "source": [
    "We import the RandomForestClassifier from sklearn.tree. "
   ]
  },
  {
   "cell_type": "code",
   "execution_count": 9,
   "metadata": {},
   "outputs": [],
   "source": [
    "# Import RandomForestClassifier\n",
    "from sklearn.ensemble import RandomForestClassifier\n",
    "\n",
    "# Instantiate RandomForestClassifier\n",
    "model = RandomForestClassifier(random_state=42, max_depth=5)"
   ]
  },
  {
   "attachments": {},
   "cell_type": "markdown",
   "metadata": {},
   "source": [
    "And now, we train the model. The `fit()` method trains the model on the training data X_train and y_train."
   ]
  },
  {
   "cell_type": "code",
   "execution_count": 10,
   "metadata": {},
   "outputs": [
    {
     "data": {
      "text/html": [
       "<style>#sk-container-id-1 {color: black;background-color: white;}#sk-container-id-1 pre{padding: 0;}#sk-container-id-1 div.sk-toggleable {background-color: white;}#sk-container-id-1 label.sk-toggleable__label {cursor: pointer;display: block;width: 100%;margin-bottom: 0;padding: 0.3em;box-sizing: border-box;text-align: center;}#sk-container-id-1 label.sk-toggleable__label-arrow:before {content: \"▸\";float: left;margin-right: 0.25em;color: #696969;}#sk-container-id-1 label.sk-toggleable__label-arrow:hover:before {color: black;}#sk-container-id-1 div.sk-estimator:hover label.sk-toggleable__label-arrow:before {color: black;}#sk-container-id-1 div.sk-toggleable__content {max-height: 0;max-width: 0;overflow: hidden;text-align: left;background-color: #f0f8ff;}#sk-container-id-1 div.sk-toggleable__content pre {margin: 0.2em;color: black;border-radius: 0.25em;background-color: #f0f8ff;}#sk-container-id-1 input.sk-toggleable__control:checked~div.sk-toggleable__content {max-height: 200px;max-width: 100%;overflow: auto;}#sk-container-id-1 input.sk-toggleable__control:checked~label.sk-toggleable__label-arrow:before {content: \"▾\";}#sk-container-id-1 div.sk-estimator input.sk-toggleable__control:checked~label.sk-toggleable__label {background-color: #d4ebff;}#sk-container-id-1 div.sk-label input.sk-toggleable__control:checked~label.sk-toggleable__label {background-color: #d4ebff;}#sk-container-id-1 input.sk-hidden--visually {border: 0;clip: rect(1px 1px 1px 1px);clip: rect(1px, 1px, 1px, 1px);height: 1px;margin: -1px;overflow: hidden;padding: 0;position: absolute;width: 1px;}#sk-container-id-1 div.sk-estimator {font-family: monospace;background-color: #f0f8ff;border: 1px dotted black;border-radius: 0.25em;box-sizing: border-box;margin-bottom: 0.5em;}#sk-container-id-1 div.sk-estimator:hover {background-color: #d4ebff;}#sk-container-id-1 div.sk-parallel-item::after {content: \"\";width: 100%;border-bottom: 1px solid gray;flex-grow: 1;}#sk-container-id-1 div.sk-label:hover label.sk-toggleable__label {background-color: #d4ebff;}#sk-container-id-1 div.sk-serial::before {content: \"\";position: absolute;border-left: 1px solid gray;box-sizing: border-box;top: 0;bottom: 0;left: 50%;z-index: 0;}#sk-container-id-1 div.sk-serial {display: flex;flex-direction: column;align-items: center;background-color: white;padding-right: 0.2em;padding-left: 0.2em;position: relative;}#sk-container-id-1 div.sk-item {position: relative;z-index: 1;}#sk-container-id-1 div.sk-parallel {display: flex;align-items: stretch;justify-content: center;background-color: white;position: relative;}#sk-container-id-1 div.sk-item::before, #sk-container-id-1 div.sk-parallel-item::before {content: \"\";position: absolute;border-left: 1px solid gray;box-sizing: border-box;top: 0;bottom: 0;left: 50%;z-index: -1;}#sk-container-id-1 div.sk-parallel-item {display: flex;flex-direction: column;z-index: 1;position: relative;background-color: white;}#sk-container-id-1 div.sk-parallel-item:first-child::after {align-self: flex-end;width: 50%;}#sk-container-id-1 div.sk-parallel-item:last-child::after {align-self: flex-start;width: 50%;}#sk-container-id-1 div.sk-parallel-item:only-child::after {width: 0;}#sk-container-id-1 div.sk-dashed-wrapped {border: 1px dashed gray;margin: 0 0.4em 0.5em 0.4em;box-sizing: border-box;padding-bottom: 0.4em;background-color: white;}#sk-container-id-1 div.sk-label label {font-family: monospace;font-weight: bold;display: inline-block;line-height: 1.2em;}#sk-container-id-1 div.sk-label-container {text-align: center;}#sk-container-id-1 div.sk-container {/* jupyter's `normalize.less` sets `[hidden] { display: none; }` but bootstrap.min.css set `[hidden] { display: none !important; }` so we also need the `!important` here to be able to override the default hidden behavior on the sphinx rendered scikit-learn.org. See: https://github.com/scikit-learn/scikit-learn/issues/21755 */display: inline-block !important;position: relative;}#sk-container-id-1 div.sk-text-repr-fallback {display: none;}</style><div id=\"sk-container-id-1\" class=\"sk-top-container\"><div class=\"sk-text-repr-fallback\"><pre>RandomForestClassifier(max_depth=5, random_state=42)</pre><b>In a Jupyter environment, please rerun this cell to show the HTML representation or trust the notebook. <br />On GitHub, the HTML representation is unable to render, please try loading this page with nbviewer.org.</b></div><div class=\"sk-container\" hidden><div class=\"sk-item\"><div class=\"sk-estimator sk-toggleable\"><input class=\"sk-toggleable__control sk-hidden--visually\" id=\"sk-estimator-id-1\" type=\"checkbox\" checked><label for=\"sk-estimator-id-1\" class=\"sk-toggleable__label sk-toggleable__label-arrow\">RandomForestClassifier</label><div class=\"sk-toggleable__content\"><pre>RandomForestClassifier(max_depth=5, random_state=42)</pre></div></div></div></div></div>"
      ],
      "text/plain": [
       "RandomForestClassifier(max_depth=5, random_state=42)"
      ]
     },
     "execution_count": 10,
     "metadata": {},
     "output_type": "execute_result"
    }
   ],
   "source": [
    "# Fit model to training set\n",
    "model.fit(X_train, y_train)"
   ]
  },
  {
   "cell_type": "markdown",
   "metadata": {},
   "source": [
    "The method `predict()` predicts the target variable for the test data X_test. The predicted values are assigned to the variable `y_pred`."
   ]
  },
  {
   "cell_type": "code",
   "execution_count": 11,
   "metadata": {},
   "outputs": [
    {
     "name": "stdout",
     "output_type": "stream",
     "text": [
      "              precision    recall  f1-score   support\n",
      "\n",
      "     Class 0       0.88      1.00      0.93     20988\n",
      "     Class 1       0.00      0.00      0.00      2926\n",
      "\n",
      "    accuracy                           0.88     23914\n",
      "   macro avg       0.44      0.50      0.47     23914\n",
      "weighted avg       0.77      0.88      0.82     23914\n",
      "\n"
     ]
    }
   ],
   "source": [
    "# Evaluate the model\n",
    "from sklearn.metrics import classification_report\n",
    "\n",
    "# Predictions on the test data by using the trained model\n",
    "y_pred = model.predict(X_test)\n",
    "\n",
    "target_names=['Class 0', 'Class 1']\n",
    "print(classification_report(y_test, y_pred, target_names=target_names))"
   ]
  },
  {
   "cell_type": "markdown",
   "metadata": {},
   "source": [
    "**Confusion Matrix**\n",
    "\n",
    "To understand the [confusion matrix](/Machine-Learning-OER-Basics-main/supervised_learning/classification/k_nearest_neighbors/explainer/confusion_matrix_binary_classification.md), the example with **moon** and **sun**, that was already used in the Decision Tree notebook, comes in helpful. The main diagonal of the confusion matrix shows the number of correct classifications.\n",
    "\n",
    "Consider the following example: The confusion matrix shows that 1,000 samples were classified as **moon**. Of these, 900 were correctly classified as **moon**, and 100 were incorrectly classified as **sun**. The class sun is classified as moon 400 times and sun 600 times.\n",
    ". |**Predicted Moon**  | **Predicted Sun** |\n",
    "---- | ---- | ----\n",
    "**Actual Moon**  |      900        |     100       |\n",
    "**Actual Sun**  |      400        |     600       |"
   ]
  },
  {
   "cell_type": "code",
   "execution_count": 12,
   "metadata": {},
   "outputs": [
    {
     "data": {
      "image/png": "[encoded data removed]",
      "text/plain": [
       "<Figure size 432x432 with 2 Axes>"
      ]
     },
     "metadata": {
      "needs_background": "light"
     },
     "output_type": "display_data"
    }
   ],
   "source": [
    "from sklearn.metrics import confusion_matrix, ConfusionMatrixDisplay\n",
    "import matplotlib.pyplot as plt\n",
    "import seaborn as sns\n",
    "\n",
    "rfc_cm = confusion_matrix(y_test, y_pred)\n",
    "f, ax = plt.subplots(figsize=(6, 6))\n",
    "sns.heatmap(rfc_cm, annot=True, linewidth=0.7, fmt='g', ax=ax, cmap='Blues')\n",
    "plt.title('Random Forest | Confusion Matrix', fontsize=16)\n",
    "plt.xlabel('Predicted Class', fontsize=14)\n",
    "plt.ylabel('True Class', fontsize=14)\n",
    "ax.tick_params(labelsize=12)\n",
    "\n",
    "plt.show()\n"
   ]
  },
  {
   "cell_type": "markdown",
   "metadata": {},
   "source": [
    "The true predictions are on the main diagonal. As you saw in the classification report, the model failed to classify any vehicle as a bad buy. Let's see if we change this by balancing the classifier."
   ]
  },
  {
   "cell_type": "markdown",
   "metadata": {},
   "source": [
    "#### Imbalanced data set\n",
    "\n",
    "The manipulation of [imbalanced data](/Machine-Learning-OER-Basics-main/supervised_learning/images_explainer/explainer/data_sets.md) sets has an impact on the performance of the model. This tutorial uses the [BalancedRandomForestClassifier](https://imbalanced-learn.org/stable/references/generated/imblearn.ensemble.BalancedRandomForestClassifier.html) undersampling method.\n",
    "\n",
    "For different methods, see the [imbalanced-learn](https://imbalanced-learn.org/stable/references/index.html) documentation.\n",
    "\n",
    "**BalancedRandomForestClassifier**\n",
    "\n",
    "The BalancedRandomForestClassifier is another ensemble method in which a balanced bootstrap sample is provided to each tree in the forest.\n",
    "\n",
    "The Balanced Random Forest (BRF) algorithm works like this: \n",
    "\n",
    "1. It draws a bootstrap sample from the minority class at each iteration in a random forest. It then randomly draws the same amount of cases from the majority class with replacement. \n",
    "\n",
    "2. Causes a classification tree to grow to the maximum size (if no max_depth is set). No pruning is done. Unlike the random forest classifier used above, it does not search through all variables for the optimal split at each node but only through a set of randomly selected variables.\n",
    "\n",
    "3. It repeats the above two steps as many times as desired. The predictions of the ensemble are aggregated and a final prediction is made."
   ]
  },
  {
   "cell_type": "markdown",
   "metadata": {},
   "source": [
    "Let's apply the sampling method to our data set. NOTE: The sampling method should only be applied to the training data set. So we need to split the data set into training and test data set first. We use the same parameter we used for our basic model.\n",
    "\n",
    "We name the split data set `X_train_brfc, X_test_brfc, y_train_brfc, y_test_brfc` for better distinction."
   ]
  },
  {
   "cell_type": "code",
   "execution_count": 13,
   "metadata": {},
   "outputs": [],
   "source": [
    "from sklearn.model_selection import train_test_split\n",
    "\n",
    "# Split data into training and testing sets\n",
    "X_train_brfc, X_test_brfc, y_train_brfc, y_test_brfc = train_test_split(X, y, test_size=0.33, random_state=42)"
   ]
  },
  {
   "cell_type": "markdown",
   "metadata": {},
   "source": [
    "Consider the following parameter:\n",
    "\n",
    "* The parameter `random_state=42` ensures that the results are reproducible.\n",
    "* `replacement='True'` specifies to use a bootstrap of the minority class and draws randomly with replacement.\n",
    "* The maximum depth of the tree is `max_depth=5`, the same setting as used for the base model.\n",
    "* `sampling_strategy='auto'` resamples all classes except the minority class. This forces bootstrapping of the minority class.\n",
    "\n",
    "We import the `BalancedRandomForestClassifier()` method from the `imblearn.ensemble` library and assign the method to the variable b_model. "
   ]
  },
  {
   "cell_type": "code",
   "execution_count": 14,
   "metadata": {},
   "outputs": [],
   "source": [
    "# from imblearn.ensemble import BalancedRandomForestClassifier\n",
    "from imblearn.ensemble import BalancedRandomForestClassifier\n",
    "\n",
    "# Create the oversampler object\n",
    "b_model = BalancedRandomForestClassifier(random_state=42, replacement=True, max_depth=5, sampling_strategy='auto')"
   ]
  },
  {
   "cell_type": "markdown",
   "metadata": {},
   "source": [
    "Now we call the method `fit()` on the training data set as before."
   ]
  },
  {
   "cell_type": "code",
   "execution_count": 15,
   "metadata": {},
   "outputs": [
    {
     "data": {
      "text/html": [
       "<style>#sk-container-id-2 {color: black;background-color: white;}#sk-container-id-2 pre{padding: 0;}#sk-container-id-2 div.sk-toggleable {background-color: white;}#sk-container-id-2 label.sk-toggleable__label {cursor: pointer;display: block;width: 100%;margin-bottom: 0;padding: 0.3em;box-sizing: border-box;text-align: center;}#sk-container-id-2 label.sk-toggleable__label-arrow:before {content: \"▸\";float: left;margin-right: 0.25em;color: #696969;}#sk-container-id-2 label.sk-toggleable__label-arrow:hover:before {color: black;}#sk-container-id-2 div.sk-estimator:hover label.sk-toggleable__label-arrow:before {color: black;}#sk-container-id-2 div.sk-toggleable__content {max-height: 0;max-width: 0;overflow: hidden;text-align: left;background-color: #f0f8ff;}#sk-container-id-2 div.sk-toggleable__content pre {margin: 0.2em;color: black;border-radius: 0.25em;background-color: #f0f8ff;}#sk-container-id-2 input.sk-toggleable__control:checked~div.sk-toggleable__content {max-height: 200px;max-width: 100%;overflow: auto;}#sk-container-id-2 input.sk-toggleable__control:checked~label.sk-toggleable__label-arrow:before {content: \"▾\";}#sk-container-id-2 div.sk-estimator input.sk-toggleable__control:checked~label.sk-toggleable__label {background-color: #d4ebff;}#sk-container-id-2 div.sk-label input.sk-toggleable__control:checked~label.sk-toggleable__label {background-color: #d4ebff;}#sk-container-id-2 input.sk-hidden--visually {border: 0;clip: rect(1px 1px 1px 1px);clip: rect(1px, 1px, 1px, 1px);height: 1px;margin: -1px;overflow: hidden;padding: 0;position: absolute;width: 1px;}#sk-container-id-2 div.sk-estimator {font-family: monospace;background-color: #f0f8ff;border: 1px dotted black;border-radius: 0.25em;box-sizing: border-box;margin-bottom: 0.5em;}#sk-container-id-2 div.sk-estimator:hover {background-color: #d4ebff;}#sk-container-id-2 div.sk-parallel-item::after {content: \"\";width: 100%;border-bottom: 1px solid gray;flex-grow: 1;}#sk-container-id-2 div.sk-label:hover label.sk-toggleable__label {background-color: #d4ebff;}#sk-container-id-2 div.sk-serial::before {content: \"\";position: absolute;border-left: 1px solid gray;box-sizing: border-box;top: 0;bottom: 0;left: 50%;z-index: 0;}#sk-container-id-2 div.sk-serial {display: flex;flex-direction: column;align-items: center;background-color: white;padding-right: 0.2em;padding-left: 0.2em;position: relative;}#sk-container-id-2 div.sk-item {position: relative;z-index: 1;}#sk-container-id-2 div.sk-parallel {display: flex;align-items: stretch;justify-content: center;background-color: white;position: relative;}#sk-container-id-2 div.sk-item::before, #sk-container-id-2 div.sk-parallel-item::before {content: \"\";position: absolute;border-left: 1px solid gray;box-sizing: border-box;top: 0;bottom: 0;left: 50%;z-index: -1;}#sk-container-id-2 div.sk-parallel-item {display: flex;flex-direction: column;z-index: 1;position: relative;background-color: white;}#sk-container-id-2 div.sk-parallel-item:first-child::after {align-self: flex-end;width: 50%;}#sk-container-id-2 div.sk-parallel-item:last-child::after {align-self: flex-start;width: 50%;}#sk-container-id-2 div.sk-parallel-item:only-child::after {width: 0;}#sk-container-id-2 div.sk-dashed-wrapped {border: 1px dashed gray;margin: 0 0.4em 0.5em 0.4em;box-sizing: border-box;padding-bottom: 0.4em;background-color: white;}#sk-container-id-2 div.sk-label label {font-family: monospace;font-weight: bold;display: inline-block;line-height: 1.2em;}#sk-container-id-2 div.sk-label-container {text-align: center;}#sk-container-id-2 div.sk-container {/* jupyter's `normalize.less` sets `[hidden] { display: none; }` but bootstrap.min.css set `[hidden] { display: none !important; }` so we also need the `!important` here to be able to override the default hidden behavior on the sphinx rendered scikit-learn.org. See: https://github.com/scikit-learn/scikit-learn/issues/21755 */display: inline-block !important;position: relative;}#sk-container-id-2 div.sk-text-repr-fallback {display: none;}</style><div id=\"sk-container-id-2\" class=\"sk-top-container\"><div class=\"sk-text-repr-fallback\"><pre>BalancedRandomForestClassifier(max_depth=5, random_state=42, replacement=True)</pre><b>In a Jupyter environment, please rerun this cell to show the HTML representation or trust the notebook. <br />On GitHub, the HTML representation is unable to render, please try loading this page with nbviewer.org.</b></div><div class=\"sk-container\" hidden><div class=\"sk-item\"><div class=\"sk-estimator sk-toggleable\"><input class=\"sk-toggleable__control sk-hidden--visually\" id=\"sk-estimator-id-2\" type=\"checkbox\" checked><label for=\"sk-estimator-id-2\" class=\"sk-toggleable__label sk-toggleable__label-arrow\">BalancedRandomForestClassifier</label><div class=\"sk-toggleable__content\"><pre>BalancedRandomForestClassifier(max_depth=5, random_state=42, replacement=True)</pre></div></div></div></div></div>"
      ],
      "text/plain": [
       "BalancedRandomForestClassifier(max_depth=5, random_state=42, replacement=True)"
      ]
     },
     "execution_count": 15,
     "metadata": {},
     "output_type": "execute_result"
    }
   ],
   "source": [
    "# Fit the variable to the training data\n",
    "b_model.fit(X_train_brfc, y_train_brfc)"
   ]
  },
  {
   "cell_type": "markdown",
   "metadata": {},
   "source": [
    "#### Evaluation of the performance"
   ]
  },
  {
   "cell_type": "code",
   "execution_count": 16,
   "metadata": {},
   "outputs": [
    {
     "name": "stdout",
     "output_type": "stream",
     "text": [
      "              precision    recall  f1-score   support\n",
      "\n",
      "     Class 0    0.92252   0.62464   0.74491     20988\n",
      "     Class 1    0.18809   0.62372   0.28902      2926\n",
      "\n",
      "    accuracy                        0.62453     23914\n",
      "   macro avg    0.55531   0.62418   0.51696     23914\n",
      "weighted avg    0.83266   0.62453   0.68913     23914\n",
      "\n"
     ]
    }
   ],
   "source": [
    "# Predictions on the test data by using the trained model\n",
    "y_pred_brfc = b_model.predict(X_test_brfc)\n",
    "\n",
    "# Evaluate the classifier's performance\n",
    "target_names=['Class 0', 'Class 1']\n",
    "print(classification_report(y_test_brfc, y_pred_brfc, target_names=target_names, digits=5))"
   ]
  },
  {
   "cell_type": "code",
   "execution_count": 17,
   "metadata": {},
   "outputs": [
    {
     "data": {
      "image/png": "[encoded data removed]",
      "text/plain": [
       "<Figure size 432x432 with 2 Axes>"
      ]
     },
     "metadata": {
      "needs_background": "light"
     },
     "output_type": "display_data"
    }
   ],
   "source": [
    "from sklearn.metrics import confusion_matrix, ConfusionMatrixDisplay\n",
    "import matplotlib.pyplot as plt\n",
    "import seaborn as sns\n",
    "\n",
    "# Create confusion matrix\n",
    "b_rfc_cm = confusion_matrix(y_test_brfc, y_pred_brfc)\n",
    "\n",
    "# Plot confusion matrix\n",
    "f, ax = plt.subplots(figsize=(6, 6))\n",
    "sns.heatmap(b_rfc_cm, annot=True, linewidth=0.7, fmt='g', ax=ax, cmap='Blues')\n",
    "plt.title('Random Forest | Confusion Matrix', fontsize=16)\n",
    "plt.xlabel('Predicted label', fontsize=14)\n",
    "plt.ylabel('True label', fontsize=14)\n",
    "ax.tick_params(labelsize=12)\n",
    "\n",
    "plt.show()"
   ]
  },
  {
   "cell_type": "markdown",
   "metadata": {},
   "source": [
    "The model is now able to classify samples for class 1. Still, the model seems to perform well on class 0, achieving high precision, but not as well on class 1, with lower precision and accuracy. This could be due to class imbalance. The model is now better at capturing instances of class 1 (recall is relatively higher), but struggles to correctly classify them (low precision)."
   ]
  },
  {
   "cell_type": "markdown",
   "metadata": {},
   "source": [
    "This concludes the tutorial for the Random Forest Classifier. Please feel free to apply the sampling method from the decision tree notebook and compare the results.\n",
    "\n",
    "If you try out different parameters, writing a test plan beforehand is always good to keep track of the different parameters and the corresponding results.\n",
    "\n",
    "Next up is the [Boosting](/supervised_learning/classification/ensemble_methods/boosting/code/gradient_boosting_classifier_tutorial.ipynb) tutorial."
   ]
  },
  {
   "cell_type": "markdown",
   "metadata": {},
   "source": [
    "### EXCURSION: BOOTSTRAP\n",
    "\n",
    "Bootstrap is used in statistics to measure the uncertainty of an estimate. In the context of random forests, bootstrapping is used to create several training data sets from the original data set. Each training data set is created by sampling from the original data set with replacement. This means that some of the samples will be selected more than once, while other samples will not be selected at all. The unselected samples are called out-of-bag (OOB) samples. OOB samples are used to estimate the model's generalization accuracy. Generalization accuracy is the accuracy of the model on new data.<br>\n",
    "For each tree in the forest, the OOB score is calculated as the average accuracy of the predictions on the OOB samples. The OOB score is available through the oob_score_ attribute of the RandomForestClassifier.\n",
    "\n",
    "This decorrelates the decision trees (they become more independent), which in turn improves ensemble prediction."
   ]
  }
 ],
 "metadata": {
  "kernelspec": {
   "display_name": "Python 3",
   "language": "python",
   "name": "python3"
  },
  "language_info": {
   "codemirror_mode": {
    "name": "ipython",
    "version": 3
   },
   "file_extension": ".py",
   "mimetype": "text/x-python",
   "name": "python",
   "nbconvert_exporter": "python",
   "pygments_lexer": "ipython3",
   "version": "3.9.13"
  },
  "orig_nbformat": 4
 },
 "nbformat": 4,
 "nbformat_minor": 2
}
